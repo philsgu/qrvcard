{
 "cells": [
  {
   "cell_type": "code",
   "execution_count": 54,
   "id": "82d90ee6",
   "metadata": {},
   "outputs": [],
   "source": [
    "import segno\n",
    "from segno import helpers\n",
    "from PIL import Image\n",
    "from PIL import ImageDraw\n",
    "from PIL import ImageFont\n",
    "import io"
   ]
  },
  {
   "cell_type": "code",
   "execution_count": 55,
   "id": "54c200f3",
   "metadata": {
    "scrolled": false
   },
   "outputs": [
    {
     "name": "stdout",
     "output_type": "stream",
     "text": [
      "Help on function make_vcard in module segno.helpers:\n",
      "\n",
      "make_vcard(name, displayname, email=None, phone=None, fax=None, videophone=None, memo=None, nickname=None, birthday=None, url=None, pobox=None, street=None, city=None, region=None, zipcode=None, country=None, org=None, lat=None, lng=None, source=None, rev=None, title=None, photo_uri=None, cellphone=None, homephone=None, workphone=None)\n",
      "    Creates a QR code which encodes a `vCard <https://en.wikipedia.org/wiki/VCard>`_\n",
      "    version 3.0.\n",
      "    \n",
      "    Only a subset of available `vCard 3.0 properties <https://tools.ietf.org/html/rfc2426>`\n",
      "    is supported.\n",
      "    \n",
      "    :param str name: The name. If it contains a semicolon, , the first part\n",
      "            is treated as lastname and the second part is treated as forename.\n",
      "    :param str displayname: Common name.\n",
      "    :param email: E-mail address. Multiple values are allowed.\n",
      "    :type email: str, iterable of strings, or None\n",
      "    :param phone: Phone number. Multiple values are allowed.\n",
      "    :type phone: str, iterable of strings, or None\n",
      "    :param fax: Fax number. Multiple values are allowed.\n",
      "    :type fax: str, iterable of strings, or None\n",
      "    :param videophone: Phone number for video calls. Multiple values are allowed.\n",
      "    :type videophone: str, iterable of strings, or None\n",
      "    :param memo: A notice for the contact.\n",
      "    :type memo: str or None\n",
      "    :param nickname: Nickname.\n",
      "    :type nickname: str or None\n",
      "    :param birthday: Birthday. If a string is provided, it should encode the\n",
      "                     date as ``YYYY-MM-DD`` value.\n",
      "    :type birthday: str, datetime.date or None\n",
      "    :param url: Homepage. Multiple values are allowed.\n",
      "    :type url: str, iterable of strings, or None\n",
      "    :param pobox: P.O. box (address information).\n",
      "    :type pobox: str or None\n",
      "    :param street: Street address.\n",
      "    :type street: str or None\n",
      "    :param city: City (address information).\n",
      "    :type city: str or None\n",
      "    :param region: Region (address information).\n",
      "    :type region: str or None\n",
      "    :param zipcode: Zip code (address information).\n",
      "    :type zipcode: str or None\n",
      "    :param country: Country (address information).\n",
      "    :type country: str or None\n",
      "    :param org: Company / organization name.\n",
      "    :type org: str or None\n",
      "    :param lat: Latitude.\n",
      "    :type lat: float or None\n",
      "    :param lng: Longitude.\n",
      "    :type lng: float or None\n",
      "    :param source: URL where to obtain the vCard.\n",
      "    :type source: str or None\n",
      "    :param rev: Revision of the vCard / last modification date.\n",
      "    :type rev: str, datetime.date or None\n",
      "    :param title: Job Title. Multiple values are allowed.\n",
      "    :type title: str, iterable of strings, or None\n",
      "    :param photo_uri: Photo URI. Multiple values are allowed.\n",
      "    :type photo_uri: str, iterable of strings, or None\n",
      "    :param cellphone: Cell phone number. Multiple values are allowed.\n",
      "    :type cellphone: str, iterable of strings, or None\n",
      "    :param homephone: Home phone number. Multiple values are allowed.\n",
      "    :type homephone: str, iterable of strings, or None\n",
      "    :param workphone: Work phone number. Multiple values are allowed.\n",
      "    :type workphone: str, iterable of strings, or None\n",
      "    :rtype: segno.QRCode\n",
      "\n"
     ]
    }
   ],
   "source": [
    "help (helpers.make_vcard)"
   ]
  },
  {
   "cell_type": "code",
   "execution_count": 91,
   "id": "c7211d28",
   "metadata": {},
   "outputs": [],
   "source": [
    "def vcardmake (displayname):\n",
    "    n  = displayname.split(' ')\n",
    "    n.append(';')\n",
    "    n.insert(2, ' ')\n",
    "    name = ''.join(n[1:]) + n[0]\n",
    "    vcard = helpers.make_vcard(\n",
    "        name=name,\n",
    "        displayname=displayname,\n",
    "        title='Resident Physician',\n",
    "        org='St. Agnes Medical Center Family Medicine Residency Program',\n",
    "        phone='559-450-0463',\n",
    "        fax='559-450-0464',\n",
    "        street='4770 W Herndon Ave, Ste 110',\n",
    "        city='Fresno',\n",
    "        region='CA',\n",
    "        zipcode='93722',\n",
    "        url ='www.saintagnescare.com'\n",
    "    )\n",
    "    out = io.BytesIO()\n",
    "    vcard.save(out, scale=2, border=20, kind='png') #save to buffer\n",
    "    out.seek(0)\n",
    "    \n",
    "    img = Image.open(out)\n",
    "    d1 = ImageDraw.Draw(img)\n",
    "    myfont = ImageFont.truetype(\"/System/Library/Fonts/Geneva.ttf\", 12)\n",
    "    img_width, img_height = img.size\n",
    "    d1.text((img_width//2, 180), displayname, font=myfont, anchor='ms')\n",
    "    \n",
    "    return img.save(f\"/Users/pkimmd/Documents/GitHub/qrvcard/QR_images/{displayname}.png\")\n",
    "    \n",
    "    "
   ]
  },
  {
   "cell_type": "code",
   "execution_count": 57,
   "id": "eb939b52",
   "metadata": {},
   "outputs": [],
   "source": [
    "vcardmake('Phillip Kim, MD')"
   ]
  },
  {
   "cell_type": "code",
   "execution_count": 65,
   "id": "93c6539c",
   "metadata": {},
   "outputs": [],
   "source": [
    "import pandas as pd"
   ]
  },
  {
   "cell_type": "code",
   "execution_count": 92,
   "id": "24a75e85",
   "metadata": {},
   "outputs": [
    {
     "name": "stdout",
     "output_type": "stream",
     "text": [
      "Louis Rosales, MD\n",
      "Maria Abeysekera, MD\n",
      "Ronald Roque, MD\n",
      "Yoelbis Alcoela, MD\n",
      "Sean Kim, DO\n",
      "Tony Chien, MD\n",
      "Kuwar Anand, DO\n",
      "Tarab Mansoor, MD\n",
      "Nischint Gondara, MD\n",
      "Ugochi Nwokafor, MD\n",
      "Abdul Alcozie, MD\n",
      "Ena Kim, MD\n",
      "Andrew Phan, DO\n",
      "Luis Molina, MD\n",
      "Stella Chan, DO\n",
      "Shakeel Ahmad, MD\n",
      "Umair Khalid, MD\n",
      "Katarina Soewono, MD\n",
      "Tarnpreet Kaur, MD\n",
      "Greta Jacobsen, MD\n",
      "Malalai Zoltani, MD\n",
      "Chinedu Nwagwu, MD\n",
      "Jovanne Tamparon, MD\n",
      "Harinder Gill, MD\n"
     ]
    }
   ],
   "source": [
    "df = pd.read_csv(\"roster_residents.csv\")\n",
    "\n",
    "for i, row in df.iterrows():\n",
    "    print(row['Full Name'])\n",
    "    vcardmake(row['Full Name'])"
   ]
  },
  {
   "cell_type": "code",
   "execution_count": null,
   "id": "0b2b77eb",
   "metadata": {},
   "outputs": [],
   "source": []
  }
 ],
 "metadata": {
  "kernelspec": {
   "display_name": "Python 3.9.10 64-bit",
   "language": "python",
   "name": "python3"
  },
  "language_info": {
   "codemirror_mode": {
    "name": "ipython",
    "version": 3
   },
   "file_extension": ".py",
   "mimetype": "text/x-python",
   "name": "python",
   "nbconvert_exporter": "python",
   "pygments_lexer": "ipython3",
   "version": "3.9.10"
  },
  "vscode": {
   "interpreter": {
    "hash": "b0fa6594d8f4cbf19f97940f81e996739fb7646882a419484c72d19e05852a7e"
   }
  }
 },
 "nbformat": 4,
 "nbformat_minor": 5
}
